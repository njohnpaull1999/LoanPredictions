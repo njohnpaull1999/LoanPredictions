{
  "nbformat": 4,
  "nbformat_minor": 0,
  "metadata": {
    "colab": {
      "name": "Untitled5.ipynb",
      "provenance": []
    },
    "kernelspec": {
      "name": "python3",
      "display_name": "Python 3"
    },
    "language_info": {
      "name": "python"
    }
  },
  "cells": [
    {
      "cell_type": "code",
      "metadata": {
        "id": "i5_yzbQabKmh"
      },
      "source": [
        "import pandas as pd\n",
        "import numpy as np\n",
        "import seaborn as sns\n",
        "import matplotlib.pyplot as plt\n",
        "%matplotlib inline\n",
        "import warnings"
      ],
      "execution_count": 271,
      "outputs": []
    },
    {
      "cell_type": "code",
      "metadata": {
        "id": "hIWQIo2UbSfY"
      },
      "source": [
        "train = pd.read_csv(\"Dataset.csv\")\n",
        "test = pd.read_csv(\"test_lAUu6dG.csv\")"
      ],
      "execution_count": 272,
      "outputs": []
    },
    {
      "cell_type": "code",
      "metadata": {
        "colab": {
          "base_uri": "https://localhost:8080/",
          "height": 243
        },
        "id": "tl-nE7LPvKjU",
        "outputId": "fb26f8ac-61cf-4cbd-bbd4-8227de3deeed"
      },
      "source": [
        "train.head()"
      ],
      "execution_count": 273,
      "outputs": [
        {
          "output_type": "execute_result",
          "data": {
            "text/html": [
              "<div>\n",
              "<style scoped>\n",
              "    .dataframe tbody tr th:only-of-type {\n",
              "        vertical-align: middle;\n",
              "    }\n",
              "\n",
              "    .dataframe tbody tr th {\n",
              "        vertical-align: top;\n",
              "    }\n",
              "\n",
              "    .dataframe thead th {\n",
              "        text-align: right;\n",
              "    }\n",
              "</style>\n",
              "<table border=\"1\" class=\"dataframe\">\n",
              "  <thead>\n",
              "    <tr style=\"text-align: right;\">\n",
              "      <th></th>\n",
              "      <th>Loan_ID</th>\n",
              "      <th>Gender</th>\n",
              "      <th>Married</th>\n",
              "      <th>Dependents</th>\n",
              "      <th>Education</th>\n",
              "      <th>Self_Employed</th>\n",
              "      <th>ApplicantIncome</th>\n",
              "      <th>CoapplicantIncome</th>\n",
              "      <th>LoanAmount</th>\n",
              "      <th>Loan_Amount_Term</th>\n",
              "      <th>Credit_History</th>\n",
              "      <th>Property_Area</th>\n",
              "      <th>Loan_Status</th>\n",
              "    </tr>\n",
              "  </thead>\n",
              "  <tbody>\n",
              "    <tr>\n",
              "      <th>0</th>\n",
              "      <td>LP001002</td>\n",
              "      <td>Male</td>\n",
              "      <td>No</td>\n",
              "      <td>0</td>\n",
              "      <td>Graduate</td>\n",
              "      <td>No</td>\n",
              "      <td>5849</td>\n",
              "      <td>0.0</td>\n",
              "      <td>NaN</td>\n",
              "      <td>360.0</td>\n",
              "      <td>1.0</td>\n",
              "      <td>Urban</td>\n",
              "      <td>Y</td>\n",
              "    </tr>\n",
              "    <tr>\n",
              "      <th>1</th>\n",
              "      <td>LP001003</td>\n",
              "      <td>Male</td>\n",
              "      <td>Yes</td>\n",
              "      <td>1</td>\n",
              "      <td>Graduate</td>\n",
              "      <td>No</td>\n",
              "      <td>4583</td>\n",
              "      <td>1508.0</td>\n",
              "      <td>128.0</td>\n",
              "      <td>360.0</td>\n",
              "      <td>1.0</td>\n",
              "      <td>Rural</td>\n",
              "      <td>N</td>\n",
              "    </tr>\n",
              "    <tr>\n",
              "      <th>2</th>\n",
              "      <td>LP001005</td>\n",
              "      <td>Male</td>\n",
              "      <td>Yes</td>\n",
              "      <td>0</td>\n",
              "      <td>Graduate</td>\n",
              "      <td>Yes</td>\n",
              "      <td>3000</td>\n",
              "      <td>0.0</td>\n",
              "      <td>66.0</td>\n",
              "      <td>360.0</td>\n",
              "      <td>1.0</td>\n",
              "      <td>Urban</td>\n",
              "      <td>Y</td>\n",
              "    </tr>\n",
              "    <tr>\n",
              "      <th>3</th>\n",
              "      <td>LP001006</td>\n",
              "      <td>Male</td>\n",
              "      <td>Yes</td>\n",
              "      <td>0</td>\n",
              "      <td>Not Graduate</td>\n",
              "      <td>No</td>\n",
              "      <td>2583</td>\n",
              "      <td>2358.0</td>\n",
              "      <td>120.0</td>\n",
              "      <td>360.0</td>\n",
              "      <td>1.0</td>\n",
              "      <td>Urban</td>\n",
              "      <td>Y</td>\n",
              "    </tr>\n",
              "    <tr>\n",
              "      <th>4</th>\n",
              "      <td>LP001008</td>\n",
              "      <td>Male</td>\n",
              "      <td>No</td>\n",
              "      <td>0</td>\n",
              "      <td>Graduate</td>\n",
              "      <td>No</td>\n",
              "      <td>6000</td>\n",
              "      <td>0.0</td>\n",
              "      <td>141.0</td>\n",
              "      <td>360.0</td>\n",
              "      <td>1.0</td>\n",
              "      <td>Urban</td>\n",
              "      <td>Y</td>\n",
              "    </tr>\n",
              "  </tbody>\n",
              "</table>\n",
              "</div>"
            ],
            "text/plain": [
              "    Loan_ID Gender Married  ... Credit_History Property_Area Loan_Status\n",
              "0  LP001002   Male      No  ...            1.0         Urban           Y\n",
              "1  LP001003   Male     Yes  ...            1.0         Rural           N\n",
              "2  LP001005   Male     Yes  ...            1.0         Urban           Y\n",
              "3  LP001006   Male     Yes  ...            1.0         Urban           Y\n",
              "4  LP001008   Male      No  ...            1.0         Urban           Y\n",
              "\n",
              "[5 rows x 13 columns]"
            ]
          },
          "metadata": {},
          "execution_count": 273
        }
      ]
    },
    {
      "cell_type": "code",
      "metadata": {
        "id": "31MEHtHIvOyU"
      },
      "source": [
        "train_original = train.copy()\n",
        "test_original = test.copy()"
      ],
      "execution_count": 274,
      "outputs": []
    },
    {
      "cell_type": "code",
      "metadata": {
        "colab": {
          "base_uri": "https://localhost:8080/"
        },
        "id": "XcPThPJfvbss",
        "outputId": "b91cc4be-4a84-4ec2-f2ee-207b54884449"
      },
      "source": [
        "train.columns"
      ],
      "execution_count": 275,
      "outputs": [
        {
          "output_type": "execute_result",
          "data": {
            "text/plain": [
              "Index(['Loan_ID', 'Gender', 'Married', 'Dependents', 'Education',\n",
              "       'Self_Employed', 'ApplicantIncome', 'CoapplicantIncome', 'LoanAmount',\n",
              "       'Loan_Amount_Term', 'Credit_History', 'Property_Area', 'Loan_Status'],\n",
              "      dtype='object')"
            ]
          },
          "metadata": {},
          "execution_count": 275
        }
      ]
    },
    {
      "cell_type": "code",
      "metadata": {
        "colab": {
          "base_uri": "https://localhost:8080/"
        },
        "id": "KchhX1-UvjzM",
        "outputId": "5c1a3c32-00b5-4d1b-e82e-e5a9a7b90035"
      },
      "source": [
        "train.isnull().sum()"
      ],
      "execution_count": 276,
      "outputs": [
        {
          "output_type": "execute_result",
          "data": {
            "text/plain": [
              "Loan_ID               0\n",
              "Gender               13\n",
              "Married               3\n",
              "Dependents           15\n",
              "Education             0\n",
              "Self_Employed        32\n",
              "ApplicantIncome       0\n",
              "CoapplicantIncome     0\n",
              "LoanAmount           22\n",
              "Loan_Amount_Term     14\n",
              "Credit_History       50\n",
              "Property_Area         0\n",
              "Loan_Status           0\n",
              "dtype: int64"
            ]
          },
          "metadata": {},
          "execution_count": 276
        }
      ]
    },
    {
      "cell_type": "code",
      "metadata": {
        "id": "uViVHXKS369f"
      },
      "source": [
        "train['Dependents'].replace('3+', 3,inplace=True)\n",
        "test['Dependents'].replace('3+', 3,inplace=True)\n",
        "train['Loan_Status'].replace('N', 0,inplace=True)\n",
        "train['Loan_Status'].replace('Y', 1,inplace=True)"
      ],
      "execution_count": 277,
      "outputs": []
    },
    {
      "cell_type": "code",
      "metadata": {
        "id": "Iq7YHzJUxGPM"
      },
      "source": [
        "train['Gender'].fillna(train['Gender'].mode()[0], inplace=True)\n",
        "train['Married'].fillna(train['Married'].mode()[0], inplace=True)\n",
        "train['Dependents'].fillna(train['Dependents'].mode()[0], inplace=True)\n",
        "train['Self_Employed'].fillna(train['Self_Employed'].mode()[0], inplace=True)\n",
        "train['Credit_History'].fillna(train['Credit_History'].mode()[0], inplace=True)"
      ],
      "execution_count": 278,
      "outputs": []
    },
    {
      "cell_type": "code",
      "metadata": {
        "id": "ctPH8NBox8CF"
      },
      "source": [
        "train['Loan_Amount_Term'].fillna(train['Loan_Amount_Term'].mode()[0], inplace=True)"
      ],
      "execution_count": 279,
      "outputs": []
    },
    {
      "cell_type": "code",
      "metadata": {
        "id": "N2WirVrDz491"
      },
      "source": [
        "train['LoanAmount'].fillna(train['LoanAmount'].median(), inplace=True)"
      ],
      "execution_count": 280,
      "outputs": []
    },
    {
      "cell_type": "code",
      "metadata": {
        "colab": {
          "base_uri": "https://localhost:8080/"
        },
        "id": "CaJbtVCc0EM1",
        "outputId": "29e8d626-b535-4d9b-9ccc-3beb37bb749e"
      },
      "source": [
        "train.isnull().sum()"
      ],
      "execution_count": 281,
      "outputs": [
        {
          "output_type": "execute_result",
          "data": {
            "text/plain": [
              "Loan_ID              0\n",
              "Gender               0\n",
              "Married              0\n",
              "Dependents           0\n",
              "Education            0\n",
              "Self_Employed        0\n",
              "ApplicantIncome      0\n",
              "CoapplicantIncome    0\n",
              "LoanAmount           0\n",
              "Loan_Amount_Term     0\n",
              "Credit_History       0\n",
              "Property_Area        0\n",
              "Loan_Status          0\n",
              "dtype: int64"
            ]
          },
          "metadata": {},
          "execution_count": 281
        }
      ]
    },
    {
      "cell_type": "code",
      "metadata": {
        "colab": {
          "base_uri": "https://localhost:8080/",
          "height": 283
        },
        "id": "AcUKnhPA0IvN",
        "outputId": "c91424a1-e923-44c1-a453-f5b2c3d35c56"
      },
      "source": [
        "train['LoanAmount_log']=np.log(train['LoanAmount'])\n",
        "train['LoanAmount_log'].hist(bins=20)"
      ],
      "execution_count": 282,
      "outputs": [
        {
          "output_type": "execute_result",
          "data": {
            "text/plain": [
              "<matplotlib.axes._subplots.AxesSubplot at 0x7fd204f062d0>"
            ]
          },
          "metadata": {},
          "execution_count": 282
        },
        {
          "output_type": "display_data",
          "data": {
            "image/png": "[encoded data removed]",
            "text/plain": [
              "<Figure size 432x288 with 1 Axes>"
            ]
          },
          "metadata": {
            "needs_background": "light"
          }
        }
      ]
    },
    {
      "cell_type": "code",
      "metadata": {
        "id": "28-3vVzE1932"
      },
      "source": [
        "test['Gender'].fillna(train['Gender'].mode()[0], inplace=True)\n",
        "test['Married'].fillna(train['Married'].mode()[0], inplace=True)\n",
        "test['Dependents'].fillna(train['Dependents'].mode()[0], inplace=True)\n",
        "test['Self_Employed'].fillna(train['Self_Employed'].mode()[0], inplace=True)\n",
        "test['Credit_History'].fillna(train['Credit_History'].mode()[0], inplace=True)\n",
        "test['Loan_Amount_Term'].fillna(train['Loan_Amount_Term'].mode()[0], inplace=True)\n",
        "test['LoanAmount'].fillna(train['LoanAmount'].median(), inplace=True)"
      ],
      "execution_count": 283,
      "outputs": []
    },
    {
      "cell_type": "code",
      "metadata": {
        "id": "ljT-pqN-2SB2"
      },
      "source": [
        "test['LoanAmount_log']=np.log(test['LoanAmount'])"
      ],
      "execution_count": 284,
      "outputs": []
    },
    {
      "cell_type": "code",
      "metadata": {
        "id": "dWGsZAjt2Zju"
      },
      "source": [
        "train=train.drop('Loan_ID',axis=1)\n",
        "test=test.drop('Loan_ID',axis=1)"
      ],
      "execution_count": 285,
      "outputs": []
    },
    {
      "cell_type": "code",
      "metadata": {
        "id": "blUINspE2haI"
      },
      "source": [
        "X = train.drop('Loan_Status',1)\n",
        "y = train.Loan_Status"
      ],
      "execution_count": 286,
      "outputs": []
    },
    {
      "cell_type": "code",
      "metadata": {
        "id": "t9HC3HYF2rOe"
      },
      "source": [
        "X = pd.get_dummies(X)\n",
        "train=pd.get_dummies(train)\n",
        "test=pd.get_dummies(test)"
      ],
      "execution_count": 287,
      "outputs": []
    },
    {
      "cell_type": "code",
      "metadata": {
        "id": "HTb1jv4u3ER_"
      },
      "source": [
        "from sklearn.model_selection import train_test_split\n",
        "x_train, x_cv, y_train, y_cv = train_test_split(X,y, test_size=0.3)"
      ],
      "execution_count": 288,
      "outputs": []
    },
    {
      "cell_type": "code",
      "metadata": {
        "colab": {
          "base_uri": "https://localhost:8080/"
        },
        "id": "9Hw1lybp3XuW",
        "outputId": "0aece76b-ff96-49e2-e1b1-3035f881e3b8"
      },
      "source": [
        "from sklearn.linear_model import LogisticRegression\n",
        "from sklearn.metrics import accuracy_score\n",
        "model = LogisticRegression()\n",
        "model.fit(x_train, y_train)"
      ],
      "execution_count": 289,
      "outputs": [
        {
          "output_type": "stream",
          "name": "stderr",
          "text": [
            "/usr/local/lib/python3.7/dist-packages/sklearn/linear_model/_logistic.py:940: ConvergenceWarning: lbfgs failed to converge (status=1):\n",
            "STOP: TOTAL NO. of ITERATIONS REACHED LIMIT.\n",
            "\n",
            "Increase the number of iterations (max_iter) or scale the data as shown in:\n",
            "    https://scikit-learn.org/stable/modules/preprocessing.html\n",
            "Please also refer to the documentation for alternative solver options:\n",
            "    https://scikit-learn.org/stable/modules/linear_model.html#logistic-regression\n",
            "  extra_warning_msg=_LOGISTIC_SOLVER_CONVERGENCE_MSG)\n"
          ]
        },
        {
          "output_type": "execute_result",
          "data": {
            "text/plain": [
              "LogisticRegression(C=1.0, class_weight=None, dual=False, fit_intercept=True,\n",
              "                   intercept_scaling=1, l1_ratio=None, max_iter=100,\n",
              "                   multi_class='auto', n_jobs=None, penalty='l2',\n",
              "                   random_state=None, solver='lbfgs', tol=0.0001, verbose=0,\n",
              "                   warm_start=False)"
            ]
          },
          "metadata": {},
          "execution_count": 289
        }
      ]
    },
    {
      "cell_type": "code",
      "metadata": {
        "colab": {
          "base_uri": "https://localhost:8080/"
        },
        "id": "EMon5xzP41zQ",
        "outputId": "b4974a19-2484-4ea4-b41a-803a550e3c97"
      },
      "source": [
        "pred_cv = model.predict(x_cv)\n",
        "accuracy_score(y_cv,pred_cv)"
      ],
      "execution_count": 290,
      "outputs": [
        {
          "output_type": "execute_result",
          "data": {
            "text/plain": [
              "0.7945945945945946"
            ]
          },
          "metadata": {},
          "execution_count": 290
        }
      ]
    },
    {
      "cell_type": "code",
      "metadata": {
        "id": "mdDH9QRH5APG"
      },
      "source": [
        "pred_test = model.predict(test)"
      ],
      "execution_count": 291,
      "outputs": []
    },
    {
      "cell_type": "code",
      "metadata": {
        "colab": {
          "base_uri": "https://localhost:8080/",
          "height": 206
        },
        "id": "g-Iev_WC5EzO",
        "outputId": "be1df32f-ad6f-4c55-be1a-1119155a3d67"
      },
      "source": [
        "submission = pd.read_csv('sample_submission.csv')\n",
        "submission.head()"
      ],
      "execution_count": 292,
      "outputs": [
        {
          "output_type": "execute_result",
          "data": {
            "text/html": [
              "<div>\n",
              "<style scoped>\n",
              "    .dataframe tbody tr th:only-of-type {\n",
              "        vertical-align: middle;\n",
              "    }\n",
              "\n",
              "    .dataframe tbody tr th {\n",
              "        vertical-align: top;\n",
              "    }\n",
              "\n",
              "    .dataframe thead th {\n",
              "        text-align: right;\n",
              "    }\n",
              "</style>\n",
              "<table border=\"1\" class=\"dataframe\">\n",
              "  <thead>\n",
              "    <tr style=\"text-align: right;\">\n",
              "      <th></th>\n",
              "      <th>Loan_ID</th>\n",
              "      <th>Loan_Status</th>\n",
              "    </tr>\n",
              "  </thead>\n",
              "  <tbody>\n",
              "    <tr>\n",
              "      <th>0</th>\n",
              "      <td>LP001015</td>\n",
              "      <td>N</td>\n",
              "    </tr>\n",
              "    <tr>\n",
              "      <th>1</th>\n",
              "      <td>LP001022</td>\n",
              "      <td>N</td>\n",
              "    </tr>\n",
              "    <tr>\n",
              "      <th>2</th>\n",
              "      <td>LP001031</td>\n",
              "      <td>N</td>\n",
              "    </tr>\n",
              "    <tr>\n",
              "      <th>3</th>\n",
              "      <td>LP001035</td>\n",
              "      <td>N</td>\n",
              "    </tr>\n",
              "    <tr>\n",
              "      <th>4</th>\n",
              "      <td>LP001051</td>\n",
              "      <td>N</td>\n",
              "    </tr>\n",
              "  </tbody>\n",
              "</table>\n",
              "</div>"
            ],
            "text/plain": [
              "    Loan_ID Loan_Status\n",
              "0  LP001015           N\n",
              "1  LP001022           N\n",
              "2  LP001031           N\n",
              "3  LP001035           N\n",
              "4  LP001051           N"
            ]
          },
          "metadata": {},
          "execution_count": 292
        }
      ]
    },
    {
      "cell_type": "code",
      "metadata": {
        "id": "LupCNzrY5VJ_"
      },
      "source": [
        "submission['Loan_Status']=pred_test\n",
        "submission['Loan_ID']=test_original['Loan_ID']"
      ],
      "execution_count": 293,
      "outputs": []
    },
    {
      "cell_type": "code",
      "metadata": {
        "id": "Sthtpy0Q5nhP"
      },
      "source": [
        "submission['Loan_Status'].replace(0, 'N', inplace=True)\n",
        "submission['Loan_Status'].replace(1, 'Y', inplace=True)"
      ],
      "execution_count": 294,
      "outputs": []
    },
    {
      "cell_type": "code",
      "metadata": {
        "id": "il9NxOe65wKv"
      },
      "source": [
        "pd.DataFrame(submission, columns=['Loan_ID','Loan_Status']).to_csv('logistic.csv')"
      ],
      "execution_count": 295,
      "outputs": []
    },
    {
      "cell_type": "markdown",
      "metadata": {
        "id": "iysWkgd1u4oN"
      },
      "source": [
        "# **Stratified K-Fold Sampling**"
      ]
    },
    {
      "cell_type": "code",
      "metadata": {
        "id": "PmgDdlKT6e-r"
      },
      "source": [
        "from sklearn.model_selection import StratifiedKFold"
      ],
      "execution_count": 296,
      "outputs": []
    },
    {
      "cell_type": "code",
      "metadata": {
        "colab": {
          "base_uri": "https://localhost:8080/"
        },
        "id": "EHPYUHbV6hvv",
        "outputId": "4bff0a24-115f-420a-d2ed-8ec2931ed674"
      },
      "source": [
        "i=1\n",
        "mean = 0\n",
        "kf = StratifiedKFold(n_splits=5,random_state=1)\n",
        "model = LogisticRegression(random_state=1)\n",
        "\n",
        "for train_index,test_index in kf.split(X,y):\n",
        " print ('\\n{} of kfold {} '.format(i,kf.n_splits))\n",
        " xtr,xvl = X.loc[train_index],X.loc[test_index]\n",
        " ytr,yvl = y[train_index],y[test_index]\n",
        " model.fit(xtr,ytr)\n",
        " pred_test=model.predict(xvl)\n",
        " score=accuracy_score(yvl,pred_test)\n",
        " mean += score\n",
        " print ('accuracy_score',score)\n",
        " i+=1\n",
        " pred_test = model.predict(test)\n",
        " pred = model.predict_proba(xvl)[:,1]\n",
        "print ('\\n Mean Validation Accuracy',mean/(i-1))"
      ],
      "execution_count": 297,
      "outputs": [
        {
          "output_type": "stream",
          "name": "stderr",
          "text": [
            "/usr/local/lib/python3.7/dist-packages/sklearn/model_selection/_split.py:296: FutureWarning: Setting a random_state has no effect since shuffle is False. This will raise an error in 0.24. You should leave random_state to its default (None), or set shuffle=True.\n",
            "  FutureWarning\n",
            "/usr/local/lib/python3.7/dist-packages/sklearn/linear_model/_logistic.py:940: ConvergenceWarning: lbfgs failed to converge (status=1):\n",
            "STOP: TOTAL NO. of ITERATIONS REACHED LIMIT.\n",
            "\n",
            "Increase the number of iterations (max_iter) or scale the data as shown in:\n",
            "    https://scikit-learn.org/stable/modules/preprocessing.html\n",
            "Please also refer to the documentation for alternative solver options:\n",
            "    https://scikit-learn.org/stable/modules/linear_model.html#logistic-regression\n",
            "  extra_warning_msg=_LOGISTIC_SOLVER_CONVERGENCE_MSG)\n",
            "/usr/local/lib/python3.7/dist-packages/sklearn/linear_model/_logistic.py:940: ConvergenceWarning: lbfgs failed to converge (status=1):\n",
            "STOP: TOTAL NO. of ITERATIONS REACHED LIMIT.\n",
            "\n",
            "Increase the number of iterations (max_iter) or scale the data as shown in:\n",
            "    https://scikit-learn.org/stable/modules/preprocessing.html\n",
            "Please also refer to the documentation for alternative solver options:\n",
            "    https://scikit-learn.org/stable/modules/linear_model.html#logistic-regression\n",
            "  extra_warning_msg=_LOGISTIC_SOLVER_CONVERGENCE_MSG)\n",
            "/usr/local/lib/python3.7/dist-packages/sklearn/linear_model/_logistic.py:940: ConvergenceWarning: lbfgs failed to converge (status=1):\n",
            "STOP: TOTAL NO. of ITERATIONS REACHED LIMIT.\n",
            "\n",
            "Increase the number of iterations (max_iter) or scale the data as shown in:\n",
            "    https://scikit-learn.org/stable/modules/preprocessing.html\n",
            "Please also refer to the documentation for alternative solver options:\n",
            "    https://scikit-learn.org/stable/modules/linear_model.html#logistic-regression\n",
            "  extra_warning_msg=_LOGISTIC_SOLVER_CONVERGENCE_MSG)\n"
          ]
        },
        {
          "output_type": "stream",
          "name": "stdout",
          "text": [
            "\n",
            "1 of kfold 5 \n",
            "accuracy_score 0.8130081300813008\n",
            "\n",
            "2 of kfold 5 \n",
            "accuracy_score 0.7642276422764228\n",
            "\n",
            "3 of kfold 5 \n",
            "accuracy_score 0.7804878048780488\n",
            "\n",
            "4 of kfold 5 \n",
            "accuracy_score 0.8455284552845529\n",
            "\n",
            "5 of kfold 5 \n",
            "accuracy_score 0.8032786885245902\n",
            "\n",
            " Mean Validation Accuracy 0.801306144208983\n"
          ]
        },
        {
          "output_type": "stream",
          "name": "stderr",
          "text": [
            "/usr/local/lib/python3.7/dist-packages/sklearn/linear_model/_logistic.py:940: ConvergenceWarning: lbfgs failed to converge (status=1):\n",
            "STOP: TOTAL NO. of ITERATIONS REACHED LIMIT.\n",
            "\n",
            "Increase the number of iterations (max_iter) or scale the data as shown in:\n",
            "    https://scikit-learn.org/stable/modules/preprocessing.html\n",
            "Please also refer to the documentation for alternative solver options:\n",
            "    https://scikit-learn.org/stable/modules/linear_model.html#logistic-regression\n",
            "  extra_warning_msg=_LOGISTIC_SOLVER_CONVERGENCE_MSG)\n",
            "/usr/local/lib/python3.7/dist-packages/sklearn/linear_model/_logistic.py:940: ConvergenceWarning: lbfgs failed to converge (status=1):\n",
            "STOP: TOTAL NO. of ITERATIONS REACHED LIMIT.\n",
            "\n",
            "Increase the number of iterations (max_iter) or scale the data as shown in:\n",
            "    https://scikit-learn.org/stable/modules/preprocessing.html\n",
            "Please also refer to the documentation for alternative solver options:\n",
            "    https://scikit-learn.org/stable/modules/linear_model.html#logistic-regression\n",
            "  extra_warning_msg=_LOGISTIC_SOLVER_CONVERGENCE_MSG)\n"
          ]
        }
      ]
    },
    {
      "cell_type": "code",
      "metadata": {
        "colab": {
          "base_uri": "https://localhost:8080/",
          "height": 497
        },
        "id": "FrAhcPVH7h7I",
        "outputId": "f47757c0-901a-4cf0-a8de-1f12f9259d42"
      },
      "source": [
        "from sklearn import metrics\n",
        "fpr, tpr, _ = metrics.roc_curve(yvl, pred)\n",
        "auc = metrics.roc_auc_score(yvl, pred)\n",
        "plt.figure(figsize=(12,8))\n",
        "plt.plot(fpr, tpr, label='validation, auc='+str(auc))\n",
        "plt.xlabel('False Positive Rate')\n",
        "plt.ylabel('True Positive Rate')\n",
        "plt.legend(loc=4)\n",
        "plt.show()"
      ],
      "execution_count": 298,
      "outputs": [
        {
          "output_type": "display_data",
          "data": {
            "image/png": "[encoded data removed]",
            "text/plain": [
              "<Figure size 864x576 with 1 Axes>"
            ]
          },
          "metadata": {
            "needs_background": "light"
          }
        }
      ]
    },
    {
      "cell_type": "markdown",
      "metadata": {
        "id": "5A11Fp25P0JQ"
      },
      "source": [
        "**Feature Engineering**"
      ]
    },
    {
      "cell_type": "code",
      "metadata": {
        "id": "yGFyYF8Y752I"
      },
      "source": [
        "train['Total_Income']=train['ApplicantIncome']+train['CoapplicantIncome']\n",
        "test['Total_Income']=test['ApplicantIncome']+test['CoapplicantIncome']"
      ],
      "execution_count": 299,
      "outputs": []
    },
    {
      "cell_type": "code",
      "metadata": {
        "colab": {
          "base_uri": "https://localhost:8080/",
          "height": 352
        },
        "id": "5fZkQVn7QHvd",
        "outputId": "362077c1-e203-4c86-cd69-66a654a007de"
      },
      "source": [
        "sns.distplot(train['Total_Income'])"
      ],
      "execution_count": 300,
      "outputs": [
        {
          "output_type": "stream",
          "name": "stderr",
          "text": [
            "/usr/local/lib/python3.7/dist-packages/seaborn/distributions.py:2619: FutureWarning: `distplot` is a deprecated function and will be removed in a future version. Please adapt your code to use either `displot` (a figure-level function with similar flexibility) or `histplot` (an axes-level function for histograms).\n",
            "  warnings.warn(msg, FutureWarning)\n"
          ]
        },
        {
          "output_type": "execute_result",
          "data": {
            "text/plain": [
              "<matplotlib.axes._subplots.AxesSubplot at 0x7fd204c85f10>"
            ]
          },
          "metadata": {},
          "execution_count": 300
        },
        {
          "output_type": "display_data",
          "data": {
            "image/png": "[encoded data removed]",
            "text/plain": [
              "<Figure size 432x288 with 1 Axes>"
            ]
          },
          "metadata": {
            "needs_background": "light"
          }
        }
      ]
    },
    {
      "cell_type": "code",
      "metadata": {
        "colab": {
          "base_uri": "https://localhost:8080/",
          "height": 335
        },
        "id": "R05JnSi_QZ5F",
        "outputId": "ccf81d2e-f7fd-4380-b477-32bbc45b47b3"
      },
      "source": [
        "train['Total_Income_log'] = np.log(train['Total_Income'])\n",
        "sns.distplot(train['Total_Income_log'])\n",
        "test['Total_Income_log'] = np.log(test['Total_Income'])"
      ],
      "execution_count": 301,
      "outputs": [
        {
          "output_type": "stream",
          "name": "stderr",
          "text": [
            "/usr/local/lib/python3.7/dist-packages/seaborn/distributions.py:2619: FutureWarning: `distplot` is a deprecated function and will be removed in a future version. Please adapt your code to use either `displot` (a figure-level function with similar flexibility) or `histplot` (an axes-level function for histograms).\n",
            "  warnings.warn(msg, FutureWarning)\n"
          ]
        },
        {
          "output_type": "display_data",
          "data": {
            "image/png": "[encoded data removed]",
            "text/plain": [
              "<Figure size 432x288 with 1 Axes>"
            ]
          },
          "metadata": {
            "needs_background": "light"
          }
        }
      ]
    },
    {
      "cell_type": "code",
      "metadata": {
        "id": "qo4ddYlnQo2l"
      },
      "source": [
        "train['EMI']=train['LoanAmount']/train['Loan_Amount_Term']\n",
        "test['EMI']=test['LoanAmount']/test['Loan_Amount_Term']"
      ],
      "execution_count": 302,
      "outputs": []
    },
    {
      "cell_type": "code",
      "metadata": {
        "colab": {
          "base_uri": "https://localhost:8080/",
          "height": 335
        },
        "id": "BCLWUiGdQ42k",
        "outputId": "adb52893-4144-436f-a71b-55447f3370bc"
      },
      "source": [
        "train['EMI_log'] = np.log(train['EMI'])\n",
        "sns.distplot(train['EMI_log'])\n",
        "test['EMI_log'] = np.log(test['EMI'])\n",
        "#EMI can be 0, leading to undefined log transformation\n",
        "#Cannot be used"
      ],
      "execution_count": 303,
      "outputs": [
        {
          "output_type": "stream",
          "name": "stderr",
          "text": [
            "/usr/local/lib/python3.7/dist-packages/seaborn/distributions.py:2619: FutureWarning: `distplot` is a deprecated function and will be removed in a future version. Please adapt your code to use either `displot` (a figure-level function with similar flexibility) or `histplot` (an axes-level function for histograms).\n",
            "  warnings.warn(msg, FutureWarning)\n"
          ]
        },
        {
          "output_type": "display_data",
          "data": {
            "image/png": "[encoded data removed]",
            "text/plain": [
              "<Figure size 432x288 with 1 Axes>"
            ]
          },
          "metadata": {
            "needs_background": "light"
          }
        }
      ]
    },
    {
      "cell_type": "code",
      "metadata": {
        "colab": {
          "base_uri": "https://localhost:8080/",
          "height": 351
        },
        "id": "1t4qxwP3SL5m",
        "outputId": "c3b3e405-6256-4670-eb96-837b832dfd83"
      },
      "source": [
        "train['Balance Income'] = train['Total_Income']-(train['EMI']*1000)\n",
        "test['Balance Income'] = test['Total_Income']-(test['EMI']*1000)\n",
        "sns.distplot(train['Balance Income'])"
      ],
      "execution_count": 304,
      "outputs": [
        {
          "output_type": "stream",
          "name": "stderr",
          "text": [
            "/usr/local/lib/python3.7/dist-packages/seaborn/distributions.py:2619: FutureWarning: `distplot` is a deprecated function and will be removed in a future version. Please adapt your code to use either `displot` (a figure-level function with similar flexibility) or `histplot` (an axes-level function for histograms).\n",
            "  warnings.warn(msg, FutureWarning)\n"
          ]
        },
        {
          "output_type": "execute_result",
          "data": {
            "text/plain": [
              "<matplotlib.axes._subplots.AxesSubplot at 0x7fd204efc2d0>"
            ]
          },
          "metadata": {},
          "execution_count": 304
        },
        {
          "output_type": "display_data",
          "data": {
            "image/png": "[encoded data removed]",
            "text/plain": [
              "<Figure size 432x288 with 1 Axes>"
            ]
          },
          "metadata": {
            "needs_background": "light"
          }
        }
      ]
    },
    {
      "cell_type": "code",
      "metadata": {
        "colab": {
          "base_uri": "https://localhost:8080/",
          "height": 149
        },
        "id": "c_7rO4yrX5Ye",
        "outputId": "0ecb4032-7da3-4c92-e61d-3d7768cd613e"
      },
      "source": [
        "train.query('`Balance Income` < 0')"
      ],
      "execution_count": 305,
      "outputs": [
        {
          "output_type": "execute_result",
          "data": {
            "text/html": [
              "<div>\n",
              "<style scoped>\n",
              "    .dataframe tbody tr th:only-of-type {\n",
              "        vertical-align: middle;\n",
              "    }\n",
              "\n",
              "    .dataframe tbody tr th {\n",
              "        vertical-align: top;\n",
              "    }\n",
              "\n",
              "    .dataframe thead th {\n",
              "        text-align: right;\n",
              "    }\n",
              "</style>\n",
              "<table border=\"1\" class=\"dataframe\">\n",
              "  <thead>\n",
              "    <tr style=\"text-align: right;\">\n",
              "      <th></th>\n",
              "      <th>ApplicantIncome</th>\n",
              "      <th>CoapplicantIncome</th>\n",
              "      <th>LoanAmount</th>\n",
              "      <th>Loan_Amount_Term</th>\n",
              "      <th>Credit_History</th>\n",
              "      <th>Loan_Status</th>\n",
              "      <th>LoanAmount_log</th>\n",
              "      <th>Gender_Female</th>\n",
              "      <th>Gender_Male</th>\n",
              "      <th>Married_No</th>\n",
              "      <th>Married_Yes</th>\n",
              "      <th>Dependents_3</th>\n",
              "      <th>Dependents_0</th>\n",
              "      <th>Dependents_1</th>\n",
              "      <th>Dependents_2</th>\n",
              "      <th>Education_Graduate</th>\n",
              "      <th>Education_Not Graduate</th>\n",
              "      <th>Self_Employed_No</th>\n",
              "      <th>Self_Employed_Yes</th>\n",
              "      <th>Property_Area_Rural</th>\n",
              "      <th>Property_Area_Semiurban</th>\n",
              "      <th>Property_Area_Urban</th>\n",
              "      <th>Total_Income</th>\n",
              "      <th>Total_Income_log</th>\n",
              "      <th>EMI</th>\n",
              "      <th>EMI_log</th>\n",
              "      <th>Balance Income</th>\n",
              "    </tr>\n",
              "  </thead>\n",
              "  <tbody>\n",
              "    <tr>\n",
              "      <th>262</th>\n",
              "      <td>3481</td>\n",
              "      <td>0.0</td>\n",
              "      <td>155.0</td>\n",
              "      <td>36.0</td>\n",
              "      <td>1.0</td>\n",
              "      <td>0</td>\n",
              "      <td>5.043425</td>\n",
              "      <td>1</td>\n",
              "      <td>0</td>\n",
              "      <td>1</td>\n",
              "      <td>0</td>\n",
              "      <td>0</td>\n",
              "      <td>0</td>\n",
              "      <td>1</td>\n",
              "      <td>0</td>\n",
              "      <td>1</td>\n",
              "      <td>0</td>\n",
              "      <td>1</td>\n",
              "      <td>0</td>\n",
              "      <td>0</td>\n",
              "      <td>1</td>\n",
              "      <td>0</td>\n",
              "      <td>3481.0</td>\n",
              "      <td>8.155075</td>\n",
              "      <td>4.305556</td>\n",
              "      <td>1.459906</td>\n",
              "      <td>-824.555556</td>\n",
              "    </tr>\n",
              "    <tr>\n",
              "      <th>497</th>\n",
              "      <td>4625</td>\n",
              "      <td>2857.0</td>\n",
              "      <td>111.0</td>\n",
              "      <td>12.0</td>\n",
              "      <td>1.0</td>\n",
              "      <td>1</td>\n",
              "      <td>4.709530</td>\n",
              "      <td>0</td>\n",
              "      <td>1</td>\n",
              "      <td>0</td>\n",
              "      <td>1</td>\n",
              "      <td>0</td>\n",
              "      <td>1</td>\n",
              "      <td>0</td>\n",
              "      <td>0</td>\n",
              "      <td>1</td>\n",
              "      <td>0</td>\n",
              "      <td>1</td>\n",
              "      <td>0</td>\n",
              "      <td>0</td>\n",
              "      <td>0</td>\n",
              "      <td>1</td>\n",
              "      <td>7482.0</td>\n",
              "      <td>8.920255</td>\n",
              "      <td>9.250000</td>\n",
              "      <td>2.224624</td>\n",
              "      <td>-1768.000000</td>\n",
              "    </tr>\n",
              "  </tbody>\n",
              "</table>\n",
              "</div>"
            ],
            "text/plain": [
              "     ApplicantIncome  CoapplicantIncome  ...   EMI_log  Balance Income\n",
              "262             3481                0.0  ...  1.459906     -824.555556\n",
              "497             4625             2857.0  ...  2.224624    -1768.000000\n",
              "\n",
              "[2 rows x 27 columns]"
            ]
          },
          "metadata": {},
          "execution_count": 305
        }
      ]
    },
    {
      "cell_type": "code",
      "metadata": {
        "id": "bWxt9lPoSrZN"
      },
      "source": [
        "train=train.drop(['ApplicantIncome', 'CoapplicantIncome', 'LoanAmount', 'Loan_Amount_Term'], axis=1)\n",
        "test=test.drop(['ApplicantIncome', 'CoapplicantIncome', 'LoanAmount', 'Loan_Amount_Term'], axis=1)"
      ],
      "execution_count": 306,
      "outputs": []
    },
    {
      "cell_type": "code",
      "metadata": {
        "id": "Kb-slXndXzeP"
      },
      "source": [
        "train=train.drop(['BI_log'], axis=1)\n",
        "test=test.drop(['BI_log'], axis=1)"
      ],
      "execution_count": 269,
      "outputs": []
    },
    {
      "cell_type": "code",
      "metadata": {
        "colab": {
          "base_uri": "https://localhost:8080/"
        },
        "id": "IwxqYITaTaFu",
        "outputId": "61d383e9-87d1-42c6-9613-cecc676facf1"
      },
      "source": [
        "train.columns"
      ],
      "execution_count": 307,
      "outputs": [
        {
          "output_type": "execute_result",
          "data": {
            "text/plain": [
              "Index(['Credit_History', 'Loan_Status', 'LoanAmount_log', 'Gender_Female',\n",
              "       'Gender_Male', 'Married_No', 'Married_Yes', 'Dependents_3',\n",
              "       'Dependents_0', 'Dependents_1', 'Dependents_2', 'Education_Graduate',\n",
              "       'Education_Not Graduate', 'Self_Employed_No', 'Self_Employed_Yes',\n",
              "       'Property_Area_Rural', 'Property_Area_Semiurban', 'Property_Area_Urban',\n",
              "       'Total_Income', 'Total_Income_log', 'EMI', 'EMI_log', 'Balance Income'],\n",
              "      dtype='object')"
            ]
          },
          "metadata": {},
          "execution_count": 307
        }
      ]
    },
    {
      "cell_type": "code",
      "metadata": {
        "id": "WE076-sITf2G"
      },
      "source": [
        "X = train.drop('Loan_Status',1)\n",
        "y = train.Loan_Status"
      ],
      "execution_count": 308,
      "outputs": []
    },
    {
      "cell_type": "code",
      "metadata": {
        "colab": {
          "base_uri": "https://localhost:8080/",
          "height": 243
        },
        "id": "N0J-AaglUjL-",
        "outputId": "9a91992c-273b-46ce-e65b-fc5f6efe0f62"
      },
      "source": [
        "X.head()"
      ],
      "execution_count": 309,
      "outputs": [
        {
          "output_type": "execute_result",
          "data": {
            "text/html": [
              "<div>\n",
              "<style scoped>\n",
              "    .dataframe tbody tr th:only-of-type {\n",
              "        vertical-align: middle;\n",
              "    }\n",
              "\n",
              "    .dataframe tbody tr th {\n",
              "        vertical-align: top;\n",
              "    }\n",
              "\n",
              "    .dataframe thead th {\n",
              "        text-align: right;\n",
              "    }\n",
              "</style>\n",
              "<table border=\"1\" class=\"dataframe\">\n",
              "  <thead>\n",
              "    <tr style=\"text-align: right;\">\n",
              "      <th></th>\n",
              "      <th>Credit_History</th>\n",
              "      <th>LoanAmount_log</th>\n",
              "      <th>Gender_Female</th>\n",
              "      <th>Gender_Male</th>\n",
              "      <th>Married_No</th>\n",
              "      <th>Married_Yes</th>\n",
              "      <th>Dependents_3</th>\n",
              "      <th>Dependents_0</th>\n",
              "      <th>Dependents_1</th>\n",
              "      <th>Dependents_2</th>\n",
              "      <th>Education_Graduate</th>\n",
              "      <th>Education_Not Graduate</th>\n",
              "      <th>Self_Employed_No</th>\n",
              "      <th>Self_Employed_Yes</th>\n",
              "      <th>Property_Area_Rural</th>\n",
              "      <th>Property_Area_Semiurban</th>\n",
              "      <th>Property_Area_Urban</th>\n",
              "      <th>Total_Income</th>\n",
              "      <th>Total_Income_log</th>\n",
              "      <th>EMI</th>\n",
              "      <th>EMI_log</th>\n",
              "      <th>Balance Income</th>\n",
              "    </tr>\n",
              "  </thead>\n",
              "  <tbody>\n",
              "    <tr>\n",
              "      <th>0</th>\n",
              "      <td>1.0</td>\n",
              "      <td>4.852030</td>\n",
              "      <td>0</td>\n",
              "      <td>1</td>\n",
              "      <td>1</td>\n",
              "      <td>0</td>\n",
              "      <td>0</td>\n",
              "      <td>1</td>\n",
              "      <td>0</td>\n",
              "      <td>0</td>\n",
              "      <td>1</td>\n",
              "      <td>0</td>\n",
              "      <td>1</td>\n",
              "      <td>0</td>\n",
              "      <td>0</td>\n",
              "      <td>0</td>\n",
              "      <td>1</td>\n",
              "      <td>5849.0</td>\n",
              "      <td>8.674026</td>\n",
              "      <td>0.355556</td>\n",
              "      <td>-1.034074</td>\n",
              "      <td>5493.444444</td>\n",
              "    </tr>\n",
              "    <tr>\n",
              "      <th>1</th>\n",
              "      <td>1.0</td>\n",
              "      <td>4.852030</td>\n",
              "      <td>0</td>\n",
              "      <td>1</td>\n",
              "      <td>0</td>\n",
              "      <td>1</td>\n",
              "      <td>0</td>\n",
              "      <td>0</td>\n",
              "      <td>1</td>\n",
              "      <td>0</td>\n",
              "      <td>1</td>\n",
              "      <td>0</td>\n",
              "      <td>1</td>\n",
              "      <td>0</td>\n",
              "      <td>1</td>\n",
              "      <td>0</td>\n",
              "      <td>0</td>\n",
              "      <td>6091.0</td>\n",
              "      <td>8.714568</td>\n",
              "      <td>0.355556</td>\n",
              "      <td>-1.034074</td>\n",
              "      <td>5735.444444</td>\n",
              "    </tr>\n",
              "    <tr>\n",
              "      <th>2</th>\n",
              "      <td>1.0</td>\n",
              "      <td>4.189655</td>\n",
              "      <td>0</td>\n",
              "      <td>1</td>\n",
              "      <td>0</td>\n",
              "      <td>1</td>\n",
              "      <td>0</td>\n",
              "      <td>1</td>\n",
              "      <td>0</td>\n",
              "      <td>0</td>\n",
              "      <td>1</td>\n",
              "      <td>0</td>\n",
              "      <td>0</td>\n",
              "      <td>1</td>\n",
              "      <td>0</td>\n",
              "      <td>0</td>\n",
              "      <td>1</td>\n",
              "      <td>3000.0</td>\n",
              "      <td>8.006368</td>\n",
              "      <td>0.183333</td>\n",
              "      <td>-1.696449</td>\n",
              "      <td>2816.666667</td>\n",
              "    </tr>\n",
              "    <tr>\n",
              "      <th>3</th>\n",
              "      <td>1.0</td>\n",
              "      <td>4.787492</td>\n",
              "      <td>0</td>\n",
              "      <td>1</td>\n",
              "      <td>0</td>\n",
              "      <td>1</td>\n",
              "      <td>0</td>\n",
              "      <td>1</td>\n",
              "      <td>0</td>\n",
              "      <td>0</td>\n",
              "      <td>0</td>\n",
              "      <td>1</td>\n",
              "      <td>1</td>\n",
              "      <td>0</td>\n",
              "      <td>0</td>\n",
              "      <td>0</td>\n",
              "      <td>1</td>\n",
              "      <td>4941.0</td>\n",
              "      <td>8.505323</td>\n",
              "      <td>0.333333</td>\n",
              "      <td>-1.098612</td>\n",
              "      <td>4607.666667</td>\n",
              "    </tr>\n",
              "    <tr>\n",
              "      <th>4</th>\n",
              "      <td>1.0</td>\n",
              "      <td>4.948760</td>\n",
              "      <td>0</td>\n",
              "      <td>1</td>\n",
              "      <td>1</td>\n",
              "      <td>0</td>\n",
              "      <td>0</td>\n",
              "      <td>1</td>\n",
              "      <td>0</td>\n",
              "      <td>0</td>\n",
              "      <td>1</td>\n",
              "      <td>0</td>\n",
              "      <td>1</td>\n",
              "      <td>0</td>\n",
              "      <td>0</td>\n",
              "      <td>0</td>\n",
              "      <td>1</td>\n",
              "      <td>6000.0</td>\n",
              "      <td>8.699515</td>\n",
              "      <td>0.391667</td>\n",
              "      <td>-0.937344</td>\n",
              "      <td>5608.333333</td>\n",
              "    </tr>\n",
              "  </tbody>\n",
              "</table>\n",
              "</div>"
            ],
            "text/plain": [
              "   Credit_History  LoanAmount_log  ...   EMI_log  Balance Income\n",
              "0             1.0        4.852030  ... -1.034074     5493.444444\n",
              "1             1.0        4.852030  ... -1.034074     5735.444444\n",
              "2             1.0        4.189655  ... -1.696449     2816.666667\n",
              "3             1.0        4.787492  ... -1.098612     4607.666667\n",
              "4             1.0        4.948760  ... -0.937344     5608.333333\n",
              "\n",
              "[5 rows x 22 columns]"
            ]
          },
          "metadata": {},
          "execution_count": 309
        }
      ]
    },
    {
      "cell_type": "markdown",
      "metadata": {
        "id": "GCKR-AlaUCqe"
      },
      "source": [
        "**Logistic Regression**"
      ]
    },
    {
      "cell_type": "code",
      "metadata": {
        "colab": {
          "base_uri": "https://localhost:8080/"
        },
        "id": "lw1v8Mj4UCX-",
        "outputId": "d253e12b-1e64-493b-d3a2-c9a29f79069d"
      },
      "source": [
        "i=1\n",
        "mean = 0\n",
        "kf = StratifiedKFold(n_splits=5,random_state=1,shuffle=True)\n",
        "model = LogisticRegression(random_state=1)\n",
        "\n",
        "for train_index,test_index in kf.split(X,y):\n",
        " print ('\\n{} of kfold {} '.format(i,kf.n_splits))\n",
        " xtr,xvl = X.loc[train_index],X.loc[test_index]\n",
        " ytr,yvl = y[train_index],y[test_index]\n",
        " model.fit(xtr,ytr)\n",
        " pred_test=model.predict(xvl)\n",
        " score=accuracy_score(yvl,pred_test)\n",
        " mean += score\n",
        " print ('accuracy_score',score)\n",
        " i+=1\n",
        " pred_test = model.predict(test)\n",
        " pred = model.predict_proba(xvl)[:,1]\n",
        "print ('\\n Mean Validation Accuracy',mean/(i-1))"
      ],
      "execution_count": 310,
      "outputs": [
        {
          "output_type": "stream",
          "name": "stdout",
          "text": [
            "\n",
            "1 of kfold 5 \n",
            "accuracy_score 0.6910569105691057\n",
            "\n",
            "2 of kfold 5 \n",
            "accuracy_score 0.6910569105691057\n",
            "\n",
            "3 of kfold 5 \n",
            "accuracy_score 0.7804878048780488\n",
            "\n",
            "4 of kfold 5 \n",
            "accuracy_score 0.7886178861788617\n",
            "\n",
            "5 of kfold 5 \n",
            "accuracy_score 0.7868852459016393\n",
            "\n",
            " Mean Validation Accuracy 0.7476209516193523\n"
          ]
        },
        {
          "output_type": "stream",
          "name": "stderr",
          "text": [
            "/usr/local/lib/python3.7/dist-packages/sklearn/linear_model/_logistic.py:940: ConvergenceWarning: lbfgs failed to converge (status=1):\n",
            "STOP: TOTAL NO. of ITERATIONS REACHED LIMIT.\n",
            "\n",
            "Increase the number of iterations (max_iter) or scale the data as shown in:\n",
            "    https://scikit-learn.org/stable/modules/preprocessing.html\n",
            "Please also refer to the documentation for alternative solver options:\n",
            "    https://scikit-learn.org/stable/modules/linear_model.html#logistic-regression\n",
            "  extra_warning_msg=_LOGISTIC_SOLVER_CONVERGENCE_MSG)\n",
            "/usr/local/lib/python3.7/dist-packages/sklearn/linear_model/_logistic.py:940: ConvergenceWarning: lbfgs failed to converge (status=1):\n",
            "STOP: TOTAL NO. of ITERATIONS REACHED LIMIT.\n",
            "\n",
            "Increase the number of iterations (max_iter) or scale the data as shown in:\n",
            "    https://scikit-learn.org/stable/modules/preprocessing.html\n",
            "Please also refer to the documentation for alternative solver options:\n",
            "    https://scikit-learn.org/stable/modules/linear_model.html#logistic-regression\n",
            "  extra_warning_msg=_LOGISTIC_SOLVER_CONVERGENCE_MSG)\n"
          ]
        }
      ]
    },
    {
      "cell_type": "markdown",
      "metadata": {
        "id": "C-rPct3yZaz_"
      },
      "source": [
        "**Decision Tree**"
      ]
    },
    {
      "cell_type": "code",
      "metadata": {
        "id": "lhUGavtGT5om",
        "colab": {
          "base_uri": "https://localhost:8080/"
        },
        "outputId": "d970dc56-bcf0-4f58-ca43-7de3d6c75875"
      },
      "source": [
        "from sklearn import tree\n",
        "i=1\n",
        "mean = 0\n",
        "kf = StratifiedKFold(n_splits=5,random_state=1,shuffle=True)\n",
        "model = tree.DecisionTreeClassifier(random_state=1)\n",
        "\n",
        "for train_index,test_index in kf.split(X,y):\n",
        "    print ('\\n{} of kfold {} '.format(i,kf.n_splits))\n",
        "    xtr,xvl = X.loc[train_index],X.loc[test_index]\n",
        "    ytr,yvl = y[train_index],y[test_index]\n",
        "    model.fit(xtr,ytr)\n",
        "    pred_test=model.predict(xvl)\n",
        "    score=accuracy_score(yvl,pred_test)\n",
        "    mean += score\n",
        "    print ('accuracy_score',score)\n",
        "    i+=1\n",
        "    pred_test = model.predict(test)\n",
        "    pred = model.predict_proba(xvl)[:,1]\n",
        "print ('\\n Mean Validation Accuracy',mean/(i-1))"
      ],
      "execution_count": 311,
      "outputs": [
        {
          "output_type": "stream",
          "name": "stdout",
          "text": [
            "\n",
            "1 of kfold 5 \n",
            "accuracy_score 0.7642276422764228\n",
            "\n",
            "2 of kfold 5 \n",
            "accuracy_score 0.7154471544715447\n",
            "\n",
            "3 of kfold 5 \n",
            "accuracy_score 0.7479674796747967\n",
            "\n",
            "4 of kfold 5 \n",
            "accuracy_score 0.7317073170731707\n",
            "\n",
            "5 of kfold 5 \n",
            "accuracy_score 0.6721311475409836\n",
            "\n",
            " Mean Validation Accuracy 0.7262961482073836\n"
          ]
        }
      ]
    },
    {
      "cell_type": "markdown",
      "metadata": {
        "id": "pB8V1QiSZly_"
      },
      "source": [
        "**Random Forest**"
      ]
    },
    {
      "cell_type": "code",
      "metadata": {
        "colab": {
          "base_uri": "https://localhost:8080/"
        },
        "id": "zfPrhXXFZp4q",
        "outputId": "29b2c4da-05f2-4523-c3b3-c5a989f34e20"
      },
      "source": [
        "from sklearn.ensemble import RandomForestClassifier\n",
        "i=1\n",
        "mean = 0\n",
        "kf = StratifiedKFold(n_splits=5,random_state=1,shuffle=True)\n",
        "model = RandomForestClassifier(random_state=1, max_depth=10)\n",
        "\n",
        "for train_index,test_index in kf.split(X,y):\n",
        " print ('\\n{} of kfold {} '.format(i,kf.n_splits))\n",
        " xtr,xvl = X.loc[train_index],X.loc[test_index]\n",
        " ytr,yvl = y[train_index],y[test_index]\n",
        " model.fit(xtr,ytr)\n",
        " pred_test=model.predict(xvl)\n",
        " score=accuracy_score(yvl,pred_test)\n",
        " mean += score\n",
        " print ('accuracy_score',score)\n",
        " i+=1\n",
        " pred_test = model.predict(test)\n",
        " pred = model.predict_proba(xvl)[:,1]\n",
        "print ('\\n Mean Validation Accuracy',mean/(i-1))"
      ],
      "execution_count": 313,
      "outputs": [
        {
          "output_type": "stream",
          "name": "stdout",
          "text": [
            "\n",
            "1 of kfold 5 \n",
            "accuracy_score 0.8292682926829268\n",
            "\n",
            "2 of kfold 5 \n",
            "accuracy_score 0.8211382113821138\n",
            "\n",
            "3 of kfold 5 \n",
            "accuracy_score 0.7886178861788617\n",
            "\n",
            "4 of kfold 5 \n",
            "accuracy_score 0.7886178861788617\n",
            "\n",
            "5 of kfold 5 \n",
            "accuracy_score 0.7786885245901639\n",
            "\n",
            " Mean Validation Accuracy 0.8012661602025857\n"
          ]
        }
      ]
    },
    {
      "cell_type": "markdown",
      "metadata": {
        "id": "e94PyJa46ewB"
      },
      "source": [
        "**Grid Search**"
      ]
    },
    {
      "cell_type": "code",
      "metadata": {
        "colab": {
          "base_uri": "https://localhost:8080/"
        },
        "id": "4qtOD6yaaBXH",
        "outputId": "3f1de473-0eb4-403c-8741-988fdbce3400"
      },
      "source": [
        "from sklearn.model_selection import GridSearchCV\n",
        "paramgrid = {'max_depth': list(range(1,20,2)), 'n_estimators': list(range(1,200,20))}\n",
        "grid_search=GridSearchCV(RandomForestClassifier(random_state=1),paramgrid)\n",
        "from sklearn.model_selection import train_test_split\n",
        "x_train, x_cv, y_train, y_cv = train_test_split(X,y, test_size=0.3, random_state=1)\n",
        "grid_search.fit(x_train,y_train)\n",
        "GridSearchCV(estimator=RandomForestClassifier(random_state=1),\n",
        "             param_grid={'max_depth': [1, 3, 5, 7, 9, 11, 13, 15, 17, 19],\n",
        "                         'n_estimators': [1, 21, 41, 61, 81, 101, 121, 141, 161,\n",
        "                                          181]})\n",
        "grid_search.best_estimator_\n",
        "RandomForestClassifier(max_depth=5, n_estimators=41, random_state=1)\n",
        "i=1\n",
        "mean = 0\n",
        "kf = StratifiedKFold(n_splits=5,random_state=1,shuffle=True)\n",
        "model = RandomForestClassifier(random_state=1, max_depth=3, n_estimators=41)\n",
        "\n",
        "for train_index,test_index in kf.split(X,y):\n",
        "    print ('\\n{} of kfold {} '.format(i,kf.n_splits))\n",
        "    xtr,xvl = X.loc[train_index],X.loc[test_index]\n",
        "    ytr,yvl = y[train_index],y[test_index]\n",
        "\n",
        "    model.fit(xtr,ytr)\n",
        "    pred_test = model.predict(xvl)\n",
        "    score = accuracy_score(yvl,pred_test)\n",
        "    mean += score\n",
        "    print ('accuracy_score',score)\n",
        "    i+=1\n",
        "    pred_test = model.predict(test)\n",
        "    pred = model.predict_proba(xvl)[:,1]\n",
        "print ('\\n Mean Validation Accuracy',mean/(i-1))"
      ],
      "execution_count": 316,
      "outputs": [
        {
          "output_type": "stream",
          "name": "stdout",
          "text": [
            "\n",
            "1 of kfold 5 \n",
            "accuracy_score 0.8211382113821138\n",
            "\n",
            "2 of kfold 5 \n",
            "accuracy_score 0.8292682926829268\n",
            "\n",
            "3 of kfold 5 \n",
            "accuracy_score 0.8048780487804879\n",
            "\n",
            "4 of kfold 5 \n",
            "accuracy_score 0.7967479674796748\n",
            "\n",
            "5 of kfold 5 \n",
            "accuracy_score 0.7950819672131147\n",
            "\n",
            " Mean Validation Accuracy 0.8094228975076636\n"
          ]
        }
      ]
    },
    {
      "cell_type": "code",
      "metadata": {
        "id": "l0EgrfTxatco"
      },
      "source": [
        "submission['Loan_Status']=pred_test\n",
        "submission['Loan_ID']=test_original['Loan_ID']\n",
        "submission['Loan_Status'].replace(0, 'N', inplace=True)\n",
        "submission['Loan_Status'].replace(1, 'Y', inplace=True)\n",
        "pd.DataFrame(submission, columns=['Loan_ID','Loan_Status']).to_csv('RandomForest.csv')"
      ],
      "execution_count": 318,
      "outputs": []
    },
    {
      "cell_type": "code",
      "metadata": {
        "colab": {
          "base_uri": "https://localhost:8080/",
          "height": 501
        },
        "id": "Rvfph8JlaxN3",
        "outputId": "9fa64edb-63bb-4f67-e30a-c739b2086ff2"
      },
      "source": [
        "importances=pd.Series(model.feature_importances_, index=X.columns)\n",
        "importances.plot(kind='barh', figsize=(12,8))"
      ],
      "execution_count": 320,
      "outputs": [
        {
          "output_type": "execute_result",
          "data": {
            "text/plain": [
              "<matplotlib.axes._subplots.AxesSubplot at 0x7fd205482510>"
            ]
          },
          "metadata": {},
          "execution_count": 320
        },
        {
          "output_type": "display_data",
          "data": {
            "image/png": "[encoded data removed]",
            "text/plain": [
              "<Figure size 864x576 with 1 Axes>"
            ]
          },
          "metadata": {
            "needs_background": "light"
          }
        }
      ]
    }
  ]
}